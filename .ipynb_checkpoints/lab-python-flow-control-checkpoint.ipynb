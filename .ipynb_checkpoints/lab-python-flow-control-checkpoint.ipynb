{
 "cells": [
  {
   "cell_type": "markdown",
   "id": "d3bfc191-8885-42ee-b0a0-bbab867c6f9f",
   "metadata": {
    "tags": []
   },
   "source": [
    "# Lab | Flow Control"
   ]
  },
  {
   "cell_type": "markdown",
   "id": "3851fcd1-cf98-4653-9c89-e003b7ec9400",
   "metadata": {},
   "source": [
    "## Exercise: Managing Customer Orders Optimized\n",
    "\n",
    "In the last lab, you were starting an online store that sells various products. To ensure smooth operations, you developed a program that manages customer orders and inventory.\n",
    "\n",
    "You did so without using flow control. Let's go a step further and improve this code.\n",
    "\n",
    "Follow the steps below to complete the exercise:\n",
    "\n",
    "1. Look at your code from the lab data structures, and improve repeated code with loops.\n",
    "\n",
    "2. Instead of asking the user to input the name of three products that a customer wants to order, do the following:\n",
    "    \n",
    "    a. Prompt the user to enter the name of a product that a customer wants to order.\n",
    "    \n",
    "    b. Add the product name to the \"customer_orders\" set.\n",
    "    \n",
    "    c. Ask the user if they want to add another product (yes/no).\n",
    "    \n",
    "    d. Continue the loop until the user does not want to add another product.\n",
    "\n",
    "3. Instead of updating the inventory by subtracting 1 from the quantity of each product, only do it for  the products that were ordered (those in \"customer_orders\")."
   ]
  },
  {
   "cell_type": "code",
   "execution_count": 23,
   "id": "e0fd1b18-88ab-406d-bf68-d6e449b81e6b",
   "metadata": {
    "tags": []
   },
   "outputs": [
    {
     "name": "stdin",
     "output_type": "stream",
     "text": [
      "Input the quantity of t-shirt (only integer numbers):  2\n",
      "Input the quantity of mug (only integer numbers):  3\n",
      "Input the quantity of hat (only integer numbers):  4\n",
      "Input the quantity of book (only integer numbers):  5\n",
      "Input the quantity of keychain (only integer numbers):  6\n"
     ]
    },
    {
     "name": "stdout",
     "output_type": "stream",
     "text": [
      "Products availlable:  ('t-shirt', 'mug', 'hat', 'book', 'keychain')\n"
     ]
    },
    {
     "name": "stdin",
     "output_type": "stream",
     "text": [
      "Please introduce one product here:  mug\n",
      "Product added to orders, do you want to add another product? (type 'yes' or 'no'):  yes\n",
      "Please introduce one product here:  hat\n",
      "Product added to orders, do you want to add another product? (type 'yes' or 'no'):  no\n"
     ]
    },
    {
     "name": "stdout",
     "output_type": "stream",
     "text": [
      "Thank you\n",
      "Inventory update substrating one order from the customer orders:\n",
      "{'t-shirt': 2, 'mug': 2, 'hat': 3, 'book': 5, 'keychain': 6}\n"
     ]
    }
   ],
   "source": [
    "# Define list of products\n",
    "products = (\"t-shirt\",\"mug\",\"hat\",\"book\",\"keychain\")\n",
    "\n",
    "#Create an empty dictionary\n",
    "inventory = {}\n",
    "\n",
    "#Ask user to input product quantities\n",
    "for num_product in products:\n",
    "    quantities = int(input(f\"Input the quantity of {num_product} (only integer numbers): \"))\n",
    "    inventory[num_product] = quantities\n",
    "\n",
    "#Create customer orders set\n",
    "customer_orders = set()\n",
    "    \n",
    "#Ask user to choose 1 product\n",
    "#Ask the user if wants another product, choosing between yes or no\n",
    "print(\"Products availlable: \",products)\n",
    "while True:\n",
    "    selection = input(\"Please introduce one product here: \")\n",
    "    if selection in products:\n",
    "        customer_orders.add(selection)\n",
    "        response = input(\"Product added to orders, do you want to add another product? (type 'yes' or 'no'): \")\n",
    "        if response.lower() == \"yes\":\n",
    "            customer_orders.add(selection)\n",
    "            continue\n",
    "        elif response.lower() == \"no\":\n",
    "            print(\"Thank you\")\n",
    "            break\n",
    "        else:\n",
    "            print(\"Invalid input. Please type 'yes' or 'no'.\")\n",
    "    else:\n",
    "        print(\"Product invalid, try again.\")\n",
    "#Remove 1 unit of inventory for the customer orders selected\n",
    "print(\"Inventory update substrating one order from the customer orders:\")\n",
    "for product in customer_orders:\n",
    "    inventory[product] -= 1\n",
    "print(inventory)\n",
    "       \n",
    "\n"
   ]
  },
  {
   "cell_type": "code",
   "execution_count": null,
   "id": "3c515c77-dbf4-4e76-bb7e-93ede7e1cd73",
   "metadata": {},
   "outputs": [],
   "source": []
  }
 ],
 "metadata": {
  "kernelspec": {
   "display_name": "Python 3 (ipykernel)",
   "language": "python",
   "name": "python3"
  },
  "language_info": {
   "codemirror_mode": {
    "name": "ipython",
    "version": 3
   },
   "file_extension": ".py",
   "mimetype": "text/x-python",
   "name": "python",
   "nbconvert_exporter": "python",
   "pygments_lexer": "ipython3",
   "version": "3.11.7"
  }
 },
 "nbformat": 4,
 "nbformat_minor": 5
}
